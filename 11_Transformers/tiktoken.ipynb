{
 "cells": [
  {
   "cell_type": "code",
   "execution_count": 9,
   "metadata": {},
   "outputs": [
    {
     "data": {
      "text/plain": [
       "'ment'"
      ]
     },
     "execution_count": 9,
     "metadata": {},
     "output_type": "execute_result"
    }
   ],
   "source": [
    "from tiktoken._educational import *\n",
    "\n",
    "# Train a BPE tokeniser on a small amount of text\n",
    "enc = tiktoken.encoding_for_model(\"gpt-2\")\n",
    "\n",
    "# Visualise how the GPT-4 encoder encodes text\n",
    "enc.encode(\"hello world aaaaaaaaaaaa\")\n",
    "enc.decode([434])"
   ]
  }
 ],
 "metadata": {
  "kernelspec": {
   "display_name": "test",
   "language": "python",
   "name": "python3"
  },
  "language_info": {
   "codemirror_mode": {
    "name": "ipython",
    "version": 3
   },
   "file_extension": ".py",
   "mimetype": "text/x-python",
   "name": "python",
   "nbconvert_exporter": "python",
   "pygments_lexer": "ipython3",
   "version": "3.12.5"
  }
 },
 "nbformat": 4,
 "nbformat_minor": 2
}
